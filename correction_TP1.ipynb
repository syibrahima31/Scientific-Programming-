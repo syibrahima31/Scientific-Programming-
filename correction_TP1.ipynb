{
  "nbformat": 4,
  "nbformat_minor": 0,
  "metadata": {
    "colab": {
      "name": "correction_TP1.ipynb",
      "provenance": [],
      "authorship_tag": "ABX9TyPrVtyJj52ivXmSNfW/0bZJ",
      "include_colab_link": true
    },
    "kernelspec": {
      "name": "python3",
      "display_name": "Python 3"
    },
    "language_info": {
      "name": "python"
    }
  },
  "cells": [
    {
      "cell_type": "markdown",
      "metadata": {
        "id": "view-in-github",
        "colab_type": "text"
      },
      "source": [
        "<a href=\"https://colab.research.google.com/github/syibrahima31/Scientific-Programming-/blob/main/correction_TP1.ipynb\" target=\"_parent\"><img src=\"https://colab.research.google.com/assets/colab-badge.svg\" alt=\"Open In Colab\"/></a>"
      ]
    },
    {
      "cell_type": "code",
      "execution_count": 2,
      "metadata": {
        "id": "WpXD6gDRSB3G"
      },
      "outputs": [],
      "source": [
        "# Importation des packages \n",
        "import numpy as np "
      ]
    },
    {
      "cell_type": "markdown",
      "source": [
        ""
      ],
      "metadata": {
        "id": "UqGFcMCLT3s-"
      }
    },
    {
      "cell_type": "markdown",
      "source": [
        "### Probléme 1 : \n",
        "\n",
        "<br/> \n",
        "\n",
        "1 . Création de. x "
      ],
      "metadata": {
        "id": "bxBzWySzT3wC"
      }
    },
    {
      "cell_type": "code",
      "source": [
        "x = np.array([1,2,3,4,5])"
      ],
      "metadata": {
        "id": "vZa5MIMaSZL6"
      },
      "execution_count": 5,
      "outputs": []
    },
    {
      "cell_type": "markdown",
      "source": [
        "2 . affichage du type de x et sa taille   "
      ],
      "metadata": {
        "id": "Orgsti3HcYMm"
      }
    },
    {
      "cell_type": "code",
      "source": [
        "print(f\"le type de x est :{type(x)}\")\n",
        "print(f\"la taille de x : {x.shape}\")"
      ],
      "metadata": {
        "colab": {
          "base_uri": "https://localhost:8080/"
        },
        "id": "fag4RqWOcXhJ",
        "outputId": "9edd6551-4469-4f43-d029-78b9ff01858f"
      },
      "execution_count": 8,
      "outputs": [
        {
          "output_type": "stream",
          "name": "stdout",
          "text": [
            "le type de x est :<class 'numpy.ndarray'>\n",
            "la taille de x : (5,)\n"
          ]
        }
      ]
    },
    {
      "cell_type": "markdown",
      "source": [
        "3 . Extraction du premier element et du dernier element "
      ],
      "metadata": {
        "id": "tnrVehbsc8uN"
      }
    },
    {
      "cell_type": "code",
      "source": [
        "# premier element \n",
        "x[0]\n",
        "\n",
        "#denier elements \n",
        "x[x.shape[0]-1]\n",
        "\n",
        "x[-1]"
      ],
      "metadata": {
        "colab": {
          "base_uri": "https://localhost:8080/"
        },
        "id": "YynqvZ2KcTY5",
        "outputId": "65fad2a0-0d68-4642-a599-5310f1103351"
      },
      "execution_count": 10,
      "outputs": [
        {
          "output_type": "execute_result",
          "data": {
            "text/plain": [
              "5"
            ]
          },
          "metadata": {},
          "execution_count": 10
        }
      ]
    },
    {
      "cell_type": "markdown",
      "source": [
        "4 . Extraction des trois premiers elements et les ctocker dans un vecteur nommé `a`\n"
      ],
      "metadata": {
        "id": "4fJcP9kXdlDT"
      }
    },
    {
      "cell_type": "code",
      "source": [
        "a = x[:3]\n",
        "print(a)"
      ],
      "metadata": {
        "colab": {
          "base_uri": "https://localhost:8080/"
        },
        "id": "Vj0M5njddXLQ",
        "outputId": "43029596-0078-4f2a-9b25-ed2955063daa"
      },
      "execution_count": 13,
      "outputs": [
        {
          "output_type": "stream",
          "name": "stdout",
          "text": [
            "[1 2 3]\n"
          ]
        }
      ]
    },
    {
      "cell_type": "markdown",
      "source": [
        "5 . Extraction des deux premiers élts et le 5éme elts puis stocker dans `b`"
      ],
      "metadata": {
        "id": "L4g9b34UeNmP"
      }
    },
    {
      "cell_type": "code",
      "source": [
        "# indexation multiple \n",
        "x[[0,1,4]]\n",
        "\n",
        "# boolean indexing \n",
        "b = x[[True, True, False, False, True]]"
      ],
      "metadata": {
        "id": "LefIeWrxd4kz"
      },
      "execution_count": 17,
      "outputs": []
    },
    {
      "cell_type": "markdown",
      "source": [
        "6 .Additionner le nombre 10 au vecteur `x` "
      ],
      "metadata": {
        "id": "kgSZZRYzetBy"
      }
    },
    {
      "cell_type": "code",
      "source": [
        "# le broadasting \n",
        "(x + 10)*2  \n"
      ],
      "metadata": {
        "colab": {
          "base_uri": "https://localhost:8080/"
        },
        "id": "nKIHpSHIeXNq",
        "outputId": "4683f3ab-9c3e-45b8-d5e3-7d2d18b65325"
      },
      "execution_count": 19,
      "outputs": [
        {
          "output_type": "execute_result",
          "data": {
            "text/plain": [
              "array([22, 24, 26, 28, 30])"
            ]
          },
          "metadata": {},
          "execution_count": 19
        }
      ]
    },
    {
      "cell_type": "markdown",
      "source": [
        "7. Additionner a + b , puis commenter le resultat \n",
        "> les opérateurs en numpy sont vectorisés "
      ],
      "metadata": {
        "id": "IdBJMvPDfFJR"
      }
    },
    {
      "cell_type": "code",
      "source": [
        "a + b "
      ],
      "metadata": {
        "colab": {
          "base_uri": "https://localhost:8080/"
        },
        "id": "6pZtG9_IfDhP",
        "outputId": "ec8442b5-71f2-4376-ab86-4eed27fa97ac"
      },
      "execution_count": 21,
      "outputs": [
        {
          "output_type": "execute_result",
          "data": {
            "text/plain": [
              "array([2, 4, 8])"
            ]
          },
          "metadata": {},
          "execution_count": 21
        }
      ]
    },
    {
      "cell_type": "markdown",
      "source": [
        "8 .  Effectuer l'addition a + x \n",
        "> Erreur va se déclancher car l'opération de broadcasting n'est pa défini "
      ],
      "metadata": {
        "id": "czwOmo45f_Pj"
      }
    },
    {
      "cell_type": "code",
      "source": [
        "a + x "
      ],
      "metadata": {
        "id": "mb2w-vhnfui3"
      },
      "execution_count": 33,
      "outputs": []
    },
    {
      "cell_type": "markdown",
      "source": [
        "9. multiplier le vecteur par le scalaire `c` fixé à 2 "
      ],
      "metadata": {
        "id": "cKGmT3HKg_9z"
      }
    },
    {
      "cell_type": "code",
      "source": [
        "x * 2 "
      ],
      "metadata": {
        "colab": {
          "base_uri": "https://localhost:8080/"
        },
        "id": "9mSI-5jzggYS",
        "outputId": "e25d4abf-b8b5-45ee-adbc-f6337292ad57"
      },
      "execution_count": 34,
      "outputs": [
        {
          "output_type": "execute_result",
          "data": {
            "text/plain": [
              "array([ 2,  4,  6,  8, 10])"
            ]
          },
          "metadata": {},
          "execution_count": 34
        }
      ]
    },
    {
      "cell_type": "markdown",
      "source": [
        "10. Multiplication de a et b "
      ],
      "metadata": {
        "id": "iXcMRxmbjZfN"
      }
    },
    {
      "cell_type": "code",
      "source": [
        "a * b "
      ],
      "metadata": {
        "colab": {
          "base_uri": "https://localhost:8080/"
        },
        "id": "rznbhaonjecc",
        "outputId": "f11653d6-99fd-4dc4-99f5-d20723cb130a"
      },
      "execution_count": 47,
      "outputs": [
        {
          "output_type": "execute_result",
          "data": {
            "text/plain": [
              "array([ 1,  4, 15])"
            ]
          },
          "metadata": {},
          "execution_count": 47
        }
      ]
    },
    {
      "cell_type": "markdown",
      "source": [
        "11. Multiplication x et a \n",
        "> Erreur car le broadcasting n'est pas défini "
      ],
      "metadata": {
        "id": "6bAMJ4FojhaO"
      }
    },
    {
      "cell_type": "code",
      "source": [
        "print(x.shape)\n",
        "print(a.shape)"
      ],
      "metadata": {
        "colab": {
          "base_uri": "https://localhost:8080/"
        },
        "id": "XpDP2q-4jmUQ",
        "outputId": "f3676571-0825-4c73-d3dd-ddb5176448bf"
      },
      "execution_count": 51,
      "outputs": [
        {
          "output_type": "stream",
          "name": "stdout",
          "text": [
            "(5,)\n",
            "(3,)\n"
          ]
        }
      ]
    },
    {
      "cell_type": "markdown",
      "source": [
        "12. Recuper les postion des multiple de 2 puis stocker dans `ind`"
      ],
      "metadata": {
        "id": "TBlYD5TGhVSv"
      }
    },
    {
      "cell_type": "code",
      "source": [
        "x % 2 == 0 "
      ],
      "metadata": {
        "colab": {
          "base_uri": "https://localhost:8080/"
        },
        "id": "cQb1WcEmhRgF",
        "outputId": "47af384d-fb4f-42ae-8a69-8017976fd1a3"
      },
      "execution_count": 35,
      "outputs": [
        {
          "output_type": "execute_result",
          "data": {
            "text/plain": [
              "array([False,  True, False,  True, False])"
            ]
          },
          "metadata": {},
          "execution_count": 35
        }
      ]
    },
    {
      "cell_type": "code",
      "source": [
        "# premiere technique \n",
        "ind  = np.where(x% 2==0)[0]\n",
        "x[ind]\n",
        "\n",
        "# second technique avec le booléan indexing \n",
        "\n",
        "ind = (x%2==0) \n",
        "x[ind]"
      ],
      "metadata": {
        "colab": {
          "base_uri": "https://localhost:8080/"
        },
        "id": "zNX4zvk-hlDi",
        "outputId": "51f071bb-2ed7-41a7-efb8-045161251d1a"
      },
      "execution_count": 46,
      "outputs": [
        {
          "output_type": "execute_result",
          "data": {
            "text/plain": [
              "array([2, 4])"
            ]
          },
          "metadata": {},
          "execution_count": 46
        }
      ]
    },
    {
      "cell_type": "markdown",
      "source": [
        "13. Afficher les elements de x qui sont multiple 3 et de 2 "
      ],
      "metadata": {
        "id": "jxsPlbRnkaA5"
      }
    },
    {
      "cell_type": "code",
      "source": [
        "test  = (x % 3 ==0) &  (x % 2 ==0)\n",
        "x[test]"
      ],
      "metadata": {
        "colab": {
          "base_uri": "https://localhost:8080/"
        },
        "id": "3y_kWz3MiA_C",
        "outputId": "357407eb-6237-4005-88f8-1c590cdbd00e"
      },
      "execution_count": 58,
      "outputs": [
        {
          "output_type": "execute_result",
          "data": {
            "text/plain": [
              "array([], dtype=int64)"
            ]
          },
          "metadata": {},
          "execution_count": 58
        }
      ]
    },
    {
      "cell_type": "markdown",
      "source": [
        "14. Afficher les elements de x qui sont multiple 3 ou  de 2 "
      ],
      "metadata": {
        "id": "cO6j5_TgmQ-K"
      }
    },
    {
      "cell_type": "code",
      "source": [
        "test  = (x % 3 ==0) |  (x % 2 ==0)\n",
        "x[test]"
      ],
      "metadata": {
        "colab": {
          "base_uri": "https://localhost:8080/"
        },
        "id": "5VyHOkTFis79",
        "outputId": "b89402ba-a9d7-430c-a6f7-71ebcc64d3a2"
      },
      "execution_count": 59,
      "outputs": [
        {
          "output_type": "execute_result",
          "data": {
            "text/plain": [
              "array([2, 3, 4])"
            ]
          },
          "metadata": {},
          "execution_count": 59
        }
      ]
    },
    {
      "cell_type": "markdown",
      "source": [
        "15. la somme de x "
      ],
      "metadata": {
        "id": "vPhp8Qy-mwnP"
      }
    },
    {
      "cell_type": "code",
      "source": [
        "x.sum()"
      ],
      "metadata": {
        "colab": {
          "base_uri": "https://localhost:8080/"
        },
        "id": "TXIqalkhmrn-",
        "outputId": "bed36666-eacb-4200-ae98-7588c7d45a7a"
      },
      "execution_count": 61,
      "outputs": [
        {
          "output_type": "execute_result",
          "data": {
            "text/plain": [
              "15"
            ]
          },
          "metadata": {},
          "execution_count": 61
        }
      ]
    },
    {
      "cell_type": "code",
      "source": [
        "np.sum(x)"
      ],
      "metadata": {
        "colab": {
          "base_uri": "https://localhost:8080/"
        },
        "id": "3yVUyWBDm86W",
        "outputId": "87f832ef-018f-4b55-a2d3-a71732ea554f"
      },
      "execution_count": 62,
      "outputs": [
        {
          "output_type": "execute_result",
          "data": {
            "text/plain": [
              "15"
            ]
          },
          "metadata": {},
          "execution_count": 62
        }
      ]
    },
    {
      "cell_type": "markdown",
      "source": [
        "16. Remplacer le premier element par 4 "
      ],
      "metadata": {
        "id": "yh6QIj-snLIC"
      }
    },
    {
      "cell_type": "code",
      "source": [
        "x[0] = 4 \n",
        "x "
      ],
      "metadata": {
        "colab": {
          "base_uri": "https://localhost:8080/"
        },
        "id": "kGsET2BWnCJU",
        "outputId": "9a67afe4-1578-4b19-c7da-6d69788163c0"
      },
      "execution_count": 65,
      "outputs": [
        {
          "output_type": "execute_result",
          "data": {
            "text/plain": [
              "array([4, 2, 3, 4, 5])"
            ]
          },
          "metadata": {},
          "execution_count": 65
        }
      ]
    },
    {
      "cell_type": "markdown",
      "source": [
        "17. Remplacer le dernier element par une valeur manquante "
      ],
      "metadata": {
        "id": "xlfkN49UndKV"
      }
    },
    {
      "cell_type": "code",
      "source": [
        " x = x.astype(float)\n",
        " x.dtype\n",
        " x[-1] = np.nan"
      ],
      "metadata": {
        "id": "HJmF_0rcnXFo"
      },
      "execution_count": 74,
      "outputs": []
    },
    {
      "cell_type": "code",
      "source": [
        "np.nansum(x)"
      ],
      "metadata": {
        "colab": {
          "base_uri": "https://localhost:8080/"
        },
        "id": "crYhDxPUnrNq",
        "outputId": "d7cc694a-0b2e-45a4-a713-ed5423a4ecf8"
      },
      "execution_count": 82,
      "outputs": [
        {
          "output_type": "execute_result",
          "data": {
            "text/plain": [
              "13.0"
            ]
          },
          "metadata": {},
          "execution_count": 82
        }
      ]
    },
    {
      "cell_type": "code",
      "source": [
        "del x "
      ],
      "metadata": {
        "id": "Nf1j0FQonun8"
      },
      "execution_count": 83,
      "outputs": []
    },
    {
      "cell_type": "code",
      "source": [
        ""
      ],
      "metadata": {
        "id": "X1quw22SoXco"
      },
      "execution_count": null,
      "outputs": []
    }
  ]
}